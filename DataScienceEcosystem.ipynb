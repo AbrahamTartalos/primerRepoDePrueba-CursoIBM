{
  "metadata": {
    "kernelspec": {
      "name": "python",
      "display_name": "Python (Pyodide)",
      "language": "python"
    },
    "language_info": {
      "codemirror_mode": {
        "name": "python",
        "version": 3
      },
      "file_extension": ".py",
      "mimetype": "text/x-python",
      "name": "python",
      "nbconvert_exporter": "python",
      "pygments_lexer": "ipython3",
      "version": "3.8"
    }
  },
  "nbformat_minor": 4,
  "nbformat": 4,
  "cells": [
    {
      "cell_type": "markdown",
      "source": "_Ej.2_\n\n# Ecosistema y Herramientas en Data Science",
      "metadata": {}
    },
    {
      "cell_type": "markdown",
      "source": "_Ej.3_\n\nEn este notebook se presenta un resumen de las herramientas y el ecosistema de la ciencia de datos.",
      "metadata": {}
    },
    {
      "cell_type": "markdown",
      "source": "_Ej.10_\n\n__Objetivos:__\n+ Listado de lenguajes populares en Ciencia de Datos.\n+ Bibliotecas muy utilizadas en Ciencia de Datos.\n+ Entornos de Desarrollo Open Source.\n+ Ejemplos basicos de utilizacion del lenguaje Python.",
      "metadata": {}
    },
    {
      "cell_type": "markdown",
      "source": "_Ej.4_\n\nAlgunos de los lenguajes de programacion mas utilizados por los cientificos de datos son: \n\n1. Python\n2. R\n3. SQL\n4. Julia\n5. Java\n6. C++",
      "metadata": {}
    },
    {
      "cell_type": "markdown",
      "source": "_Ej.5_\n\nAlgunas de las librerias o bibliotecas mas utilizadas en la ciencia de datos incluyen: \n\n1. Pandas (Python)\n2. Matplotlib (Python)\n3. ggplot (R)\n4. Caret (R)\n5. SciKit-Learn (Python)",
      "metadata": {}
    },
    {
      "cell_type": "markdown",
      "source": "_Ej.6_\n\nLa siguiente tabla nos mostrará 4 herramientas de código abierto del entorno de desarrollo que se usan en la ciencia de datos.\n\n|__Data Science Tools__|\n|----------------------|\n|VS Code|\n|Watson Studio|\n|Jupyter Notebook|\n|R Studio|",
      "metadata": {}
    },
    {
      "cell_type": "markdown",
      "source": "_Ej.7_\n### A continuacion mostraré ejemplos de evaluacion de expresiones matemáticas utilizando el lenguaje de programacion Python.",
      "metadata": {}
    },
    {
      "cell_type": "code",
      "source": "#Ej.8\n# Esta es una expresión aritmética simple para luego agregar números enteros.\n\n(3*4)+5",
      "metadata": {
        "trusted": true
      },
      "outputs": [
        {
          "execution_count": 9,
          "output_type": "execute_result",
          "data": {
            "text/plain": "17"
          },
          "metadata": {}
        }
      ],
      "execution_count": 9
    },
    {
      "cell_type": "code",
      "source": "#Ej.9\n#Esta celda de codigo convierte minutos a horas. \n\ndef convertir_minuto_hora(min):\n    return (min/60)\n\nconvertir_minuto_hora(200)",
      "metadata": {
        "trusted": true
      },
      "outputs": [
        {
          "execution_count": 11,
          "output_type": "execute_result",
          "data": {
            "text/plain": "3.3333333333333335"
          },
          "metadata": {}
        }
      ],
      "execution_count": 11
    },
    {
      "cell_type": "markdown",
      "source": "_Ej.11_\n\n ## Autor: \n#### Abraham Tártalos",
      "metadata": {}
    }
  ]
}